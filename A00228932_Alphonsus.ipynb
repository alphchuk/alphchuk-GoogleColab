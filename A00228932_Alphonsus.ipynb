{
  "nbformat": 4,
  "nbformat_minor": 0,
  "metadata": {
    "colab": {
      "provenance": [],
      "collapsed_sections": [],
      "include_colab_link": true
    },
    "kernelspec": {
      "name": "python3",
      "display_name": "Python 3"
    },
    "language_info": {
      "name": "python"
    }
  },
  "cells": [
    {
      "cell_type": "markdown",
      "metadata": {
        "id": "view-in-github",
        "colab_type": "text"
      },
      "source": [
        "<a href=\"https://colab.research.google.com/github/alphchuk/alphchuk-GoogleColab/blob/main/A00228932_Alphonsus.ipynb\" target=\"_parent\"><img src=\"https://colab.research.google.com/assets/colab-badge.svg\" alt=\"Open In Colab\"/></a>"
      ]
    },
    {
      "cell_type": "code",
      "execution_count": null,
      "metadata": {
        "id": "N-1583JMWVdZ"
      },
      "outputs": [],
      "source": [
        "import pandas as pd\n",
        "import statistics as stat\n",
        "import numpy as np\n",
        "import matplotlib.pyplot as plt\n",
        "import seaborn as sns"
      ]
    },
    {
      "cell_type": "code",
      "source": [
        "#reading file\n",
        "airquality = pd.read_csv(\"airquality.csv\")"
      ],
      "metadata": {
        "id": "v6xuErrKWc2W"
      },
      "execution_count": null,
      "outputs": []
    },
    {
      "cell_type": "markdown",
      "source": [
        "1a How many missing values are present for each variable?"
      ],
      "metadata": {
        "id": "G64tZUuDWi_4"
      }
    },
    {
      "cell_type": "code",
      "source": [],
      "metadata": {
        "id": "S1UzzzoxZl5d"
      },
      "execution_count": null,
      "outputs": []
    },
    {
      "cell_type": "code",
      "source": [
        "#checking for missing values present for each variable\n",
        "airquality.isnull().sum()"
      ],
      "metadata": {
        "colab": {
          "base_uri": "https://localhost:8080/"
        },
        "id": "nBSrwuBDWnFh",
        "outputId": "e745fafe-da6a-41cc-e666-97a903a5cb89"
      },
      "execution_count": null,
      "outputs": [
        {
          "output_type": "execute_result",
          "data": {
            "text/plain": [
              "Ozone      37\n",
              "Solar.R     7\n",
              "Wind       16\n",
              "Temp        5\n",
              "Month       0\n",
              "Day         0\n",
              "dtype: int64"
            ]
          },
          "metadata": {},
          "execution_count": 5
        }
      ]
    },
    {
      "cell_type": "markdown",
      "source": [
        "1b Create a data frame of complete cases and find the mean temperature using listwise deletion"
      ],
      "metadata": {
        "id": "caEfLVIQWw64"
      }
    },
    {
      "cell_type": "code",
      "source": [
        "#removing null\n",
        "airquality_clean= df.dropna()"
      ],
      "metadata": {
        "id": "VMwAmwuPW2E2"
      },
      "execution_count": null,
      "outputs": []
    },
    {
      "cell_type": "code",
      "source": [
        "#calculating mean \n",
        "meantemp=round(airquality_clean[\"Temp\"].mean(),3)\n",
        "print(f\"The mean temperature is: {meantemp}\")"
      ],
      "metadata": {
        "colab": {
          "base_uri": "https://localhost:8080/"
        },
        "id": "DtXc9lyTXV7M",
        "outputId": "d38cbc21-5c37-44a2-ba2f-363c9c092067"
      },
      "execution_count": null,
      "outputs": [
        {
          "output_type": "stream",
          "name": "stdout",
          "text": [
            "The mean temperature is: 77.99\n"
          ]
        }
      ]
    },
    {
      "cell_type": "markdown",
      "source": [
        "1c Find the mean temperature using pairwise deletion"
      ],
      "metadata": {
        "id": "pzZBgeH_YAut"
      }
    },
    {
      "cell_type": "code",
      "source": [
        "mean_pairwise= airquality[\"Temp\"].mean(skipna=True)\n",
        "print(f\"Mean temperature using pairwise deletion : {round(mean_pairwise,2)}\")"
      ],
      "metadata": {
        "colab": {
          "base_uri": "https://localhost:8080/"
        },
        "id": "oh1I8-DrXfDw",
        "outputId": "8d0832d1-8297-46aa-fb6f-2127e5022811"
      },
      "execution_count": null,
      "outputs": [
        {
          "output_type": "stream",
          "name": "stdout",
          "text": [
            "Mean temperature using pairwise deletion : 77.91\n"
          ]
        }
      ]
    },
    {
      "cell_type": "markdown",
      "source": [
        "1d Which rows contain missing temperature values?"
      ],
      "metadata": {
        "id": "1QNdNxicYh_1"
      }
    },
    {
      "cell_type": "code",
      "source": [
        "# getting array of rows with missing temperature values\n",
        "null_rows = airquality[airquality[\"Temp\"].isna()==True].index.to_numpy()\n",
        "\n",
        "null_rows\n",
        "\n"
      ],
      "metadata": {
        "colab": {
          "base_uri": "https://localhost:8080/"
        },
        "id": "tUjZ-7--Ym58",
        "outputId": "7e48a9b8-9074-419e-ecf8-0e47bb257c30"
      },
      "execution_count": null,
      "outputs": [
        {
          "output_type": "execute_result",
          "data": {
            "text/plain": [
              "array([  8,  60,  81,  89, 145])"
            ]
          },
          "metadata": {},
          "execution_count": 14
        }
      ]
    },
    {
      "cell_type": "markdown",
      "source": [
        "1e Create a box plot for the air quality data. Interpret the plot to explain why there are differences in the mean temperature."
      ],
      "metadata": {
        "id": "P4r7SPXhZSrk"
      }
    },
    {
      "cell_type": "code",
      "source": [
        "#creating boxplot\n",
        "sns.boxplot(x=\"Month\",y='Temp',data=airquality)"
      ],
      "metadata": {
        "colab": {
          "base_uri": "https://localhost:8080/",
          "height": 296
        },
        "id": "VrKduDp6Zqju",
        "outputId": "f6a8a387-6920-4061-dce7-1b9e5dbb4356"
      },
      "execution_count": null,
      "outputs": [
        {
          "output_type": "execute_result",
          "data": {
            "text/plain": [
              "<matplotlib.axes._subplots.AxesSubplot at 0x7f6e64eb0ad0>"
            ]
          },
          "metadata": {},
          "execution_count": 16
        },
        {
          "output_type": "display_data",
          "data": {
            "text/plain": [
              "<Figure size 432x288 with 1 Axes>"
            ],
            "image/png": "[encoded data removed]"
          },
          "metadata": {
            "needs_background": "light"
          }
        }
      ]
    },
    {
      "cell_type": "markdown",
      "source": [
        "There are differences in the means for the various months because the range of temperature values are different. In addition, months '6' and '7' have outliers"
      ],
      "metadata": {
        "id": "8vGDXMTYaGEC"
      }
    },
    {
      "cell_type": "markdown",
      "source": [
        "1f. How many of the ozone values are outliers (using the default 1.5 IQR setting)? What are the ozone outlier values? Create a new data frame called ozone_complete that has all rows with ozone outliers removed."
      ],
      "metadata": {
        "id": "9Lk_b2l_bDhS"
      }
    },
    {
      "cell_type": "code",
      "source": [
        "Q1=airquality.Ozone.quantile(0.25)\n",
        "Q1"
      ],
      "metadata": {
        "colab": {
          "base_uri": "https://localhost:8080/"
        },
        "id": "Gwo9mgD_bWo0",
        "outputId": "1c8989a8-c865-4459-dd2b-10df14e18d06"
      },
      "execution_count": null,
      "outputs": [
        {
          "output_type": "execute_result",
          "data": {
            "text/plain": [
              "18.0"
            ]
          },
          "metadata": {},
          "execution_count": 17
        }
      ]
    },
    {
      "cell_type": "code",
      "source": [
        "Q3=airquality.Ozone.quantile(0.75)\n",
        "Q3"
      ],
      "metadata": {
        "colab": {
          "base_uri": "https://localhost:8080/"
        },
        "id": "GpAtaDskbkCy",
        "outputId": "78c5675a-8c13-4f28-b976-3baec3bcf710"
      },
      "execution_count": null,
      "outputs": [
        {
          "output_type": "execute_result",
          "data": {
            "text/plain": [
              "63.25"
            ]
          },
          "metadata": {},
          "execution_count": 18
        }
      ]
    },
    {
      "cell_type": "code",
      "source": [
        "IQR = Q3-Q1\n",
        "IQR"
      ],
      "metadata": {
        "colab": {
          "base_uri": "https://localhost:8080/"
        },
        "id": "uvqvZ0AEbqaO",
        "outputId": "c369ca52-8526-48e4-931e-d976deb0d672"
      },
      "execution_count": null,
      "outputs": [
        {
          "output_type": "execute_result",
          "data": {
            "text/plain": [
              "45.25"
            ]
          },
          "metadata": {},
          "execution_count": 19
        }
      ]
    },
    {
      "cell_type": "code",
      "source": [
        "ozone_complete = airquality[~((airquality.Ozone<(Q1-1.5*IQR))|(airquality.Ozone>(Q3+1.5*IQR)))]\n",
        "ozone_complete"
      ],
      "metadata": {
        "colab": {
          "base_uri": "https://localhost:8080/",
          "height": 424
        },
        "id": "mSCh0NUBbyyV",
        "outputId": "21bf9aa5-516d-4983-fb70-8596a6989e20"
      },
      "execution_count": null,
      "outputs": [
        {
          "output_type": "execute_result",
          "data": {
            "text/plain": [
              "     Ozone  Solar.R  Wind  Temp  Month  Day\n",
              "0     41.0    190.0   7.4  67.0      5    1\n",
              "1     36.0    118.0   8.0  72.0      5    2\n",
              "2     12.0    149.0  12.6  74.0      5    3\n",
              "3     18.0    313.0  11.5  62.0      5    4\n",
              "4      NaN      NaN  14.3  56.0      5    5\n",
              "..     ...      ...   ...   ...    ...  ...\n",
              "148   30.0    193.0   6.9  70.0      9   26\n",
              "149    NaN    145.0  13.2  77.0      9   27\n",
              "150   14.0    191.0  14.3  75.0      9   28\n",
              "151   18.0    131.0   8.0  76.0      9   29\n",
              "152   20.0    223.0  11.5  68.0      9   30\n",
              "\n",
              "[151 rows x 6 columns]"
            ],
            "text/html": [
              "\n",
              "  <div id=\"df-d8de3237-72e2-4280-9001-84b4617bcf09\">\n",
              "    <div class=\"colab-df-container\">\n",
              "      <div>\n",
              "<style scoped>\n",
              "    .dataframe tbody tr th:only-of-type {\n",
              "        vertical-align: middle;\n",
              "    }\n",
              "\n",
              "    .dataframe tbody tr th {\n",
              "        vertical-align: top;\n",
              "    }\n",
              "\n",
              "    .dataframe thead th {\n",
              "        text-align: right;\n",
              "    }\n",
              "</style>\n",
              "<table border=\"1\" class=\"dataframe\">\n",
              "  <thead>\n",
              "    <tr style=\"text-align: right;\">\n",
              "      <th></th>\n",
              "      <th>Ozone</th>\n",
              "      <th>Solar.R</th>\n",
              "      <th>Wind</th>\n",
              "      <th>Temp</th>\n",
              "      <th>Month</th>\n",
              "      <th>Day</th>\n",
              "    </tr>\n",
              "  </thead>\n",
              "  <tbody>\n",
              "    <tr>\n",
              "      <th>0</th>\n",
              "      <td>41.0</td>\n",
              "      <td>190.0</td>\n",
              "      <td>7.4</td>\n",
              "      <td>67.0</td>\n",
              "      <td>5</td>\n",
              "      <td>1</td>\n",
              "    </tr>\n",
              "    <tr>\n",
              "      <th>1</th>\n",
              "      <td>36.0</td>\n",
              "      <td>118.0</td>\n",
              "      <td>8.0</td>\n",
              "      <td>72.0</td>\n",
              "      <td>5</td>\n",
              "      <td>2</td>\n",
              "    </tr>\n",
              "    <tr>\n",
              "      <th>2</th>\n",
              "      <td>12.0</td>\n",
              "      <td>149.0</td>\n",
              "      <td>12.6</td>\n",
              "      <td>74.0</td>\n",
              "      <td>5</td>\n",
              "      <td>3</td>\n",
              "    </tr>\n",
              "    <tr>\n",
              "      <th>3</th>\n",
              "      <td>18.0</td>\n",
              "      <td>313.0</td>\n",
              "      <td>11.5</td>\n",
              "      <td>62.0</td>\n",
              "      <td>5</td>\n",
              "      <td>4</td>\n",
              "    </tr>\n",
              "    <tr>\n",
              "      <th>4</th>\n",
              "      <td>NaN</td>\n",
              "      <td>NaN</td>\n",
              "      <td>14.3</td>\n",
              "      <td>56.0</td>\n",
              "      <td>5</td>\n",
              "      <td>5</td>\n",
              "    </tr>\n",
              "    <tr>\n",
              "      <th>...</th>\n",
              "      <td>...</td>\n",
              "      <td>...</td>\n",
              "      <td>...</td>\n",
              "      <td>...</td>\n",
              "      <td>...</td>\n",
              "      <td>...</td>\n",
              "    </tr>\n",
              "    <tr>\n",
              "      <th>148</th>\n",
              "      <td>30.0</td>\n",
              "      <td>193.0</td>\n",
              "      <td>6.9</td>\n",
              "      <td>70.0</td>\n",
              "      <td>9</td>\n",
              "      <td>26</td>\n",
              "    </tr>\n",
              "    <tr>\n",
              "      <th>149</th>\n",
              "      <td>NaN</td>\n",
              "      <td>145.0</td>\n",
              "      <td>13.2</td>\n",
              "      <td>77.0</td>\n",
              "      <td>9</td>\n",
              "      <td>27</td>\n",
              "    </tr>\n",
              "    <tr>\n",
              "      <th>150</th>\n",
              "      <td>14.0</td>\n",
              "      <td>191.0</td>\n",
              "      <td>14.3</td>\n",
              "      <td>75.0</td>\n",
              "      <td>9</td>\n",
              "      <td>28</td>\n",
              "    </tr>\n",
              "    <tr>\n",
              "      <th>151</th>\n",
              "      <td>18.0</td>\n",
              "      <td>131.0</td>\n",
              "      <td>8.0</td>\n",
              "      <td>76.0</td>\n",
              "      <td>9</td>\n",
              "      <td>29</td>\n",
              "    </tr>\n",
              "    <tr>\n",
              "      <th>152</th>\n",
              "      <td>20.0</td>\n",
              "      <td>223.0</td>\n",
              "      <td>11.5</td>\n",
              "      <td>68.0</td>\n",
              "      <td>9</td>\n",
              "      <td>30</td>\n",
              "    </tr>\n",
              "  </tbody>\n",
              "</table>\n",
              "<p>151 rows × 6 columns</p>\n",
              "</div>\n",
              "      <button class=\"colab-df-convert\" onclick=\"convertToInteractive('df-d8de3237-72e2-4280-9001-84b4617bcf09')\"\n",
              "              title=\"Convert this dataframe to an interactive table.\"\n",
              "              style=\"display:none;\">\n",
              "        \n",
              "  <svg xmlns=\"http://www.w3.org/2000/svg\" height=\"24px\"viewBox=\"0 0 24 24\"\n",
              "       width=\"24px\">\n",
              "    <path d=\"M0 0h24v24H0V0z\" fill=\"none\"/>\n",
              "    <path d=\"M18.56 5.44l.94 2.06.94-2.06 2.06-.94-2.06-.94-.94-2.06-.94 2.06-2.06.94zm-11 1L8.5 8.5l.94-2.06 2.06-.94-2.06-.94L8.5 2.5l-.94 2.06-2.06.94zm10 10l.94 2.06.94-2.06 2.06-.94-2.06-.94-.94-2.06-.94 2.06-2.06.94z\"/><path d=\"M17.41 7.96l-1.37-1.37c-.4-.4-.92-.59-1.43-.59-.52 0-1.04.2-1.43.59L10.3 9.45l-7.72 7.72c-.78.78-.78 2.05 0 2.83L4 21.41c.39.39.9.59 1.41.59.51 0 1.02-.2 1.41-.59l7.78-7.78 2.81-2.81c.8-.78.8-2.07 0-2.86zM5.41 20L4 18.59l7.72-7.72 1.47 1.35L5.41 20z\"/>\n",
              "  </svg>\n",
              "      </button>\n",
              "      \n",
              "  <style>\n",
              "    .colab-df-container {\n",
              "      display:flex;\n",
              "      flex-wrap:wrap;\n",
              "      gap: 12px;\n",
              "    }\n",
              "\n",
              "    .colab-df-convert {\n",
              "      background-color: #E8F0FE;\n",
              "      border: none;\n",
              "      border-radius: 50%;\n",
              "      cursor: pointer;\n",
              "      display: none;\n",
              "      fill: #1967D2;\n",
              "      height: 32px;\n",
              "      padding: 0 0 0 0;\n",
              "      width: 32px;\n",
              "    }\n",
              "\n",
              "    .colab-df-convert:hover {\n",
              "      background-color: #E2EBFA;\n",
              "      box-shadow: 0px 1px 2px rgba(60, 64, 67, 0.3), 0px 1px 3px 1px rgba(60, 64, 67, 0.15);\n",
              "      fill: #174EA6;\n",
              "    }\n",
              "\n",
              "    [theme=dark] .colab-df-convert {\n",
              "      background-color: #3B4455;\n",
              "      fill: #D2E3FC;\n",
              "    }\n",
              "\n",
              "    [theme=dark] .colab-df-convert:hover {\n",
              "      background-color: #434B5C;\n",
              "      box-shadow: 0px 1px 3px 1px rgba(0, 0, 0, 0.15);\n",
              "      filter: drop-shadow(0px 1px 2px rgba(0, 0, 0, 0.3));\n",
              "      fill: #FFFFFF;\n",
              "    }\n",
              "  </style>\n",
              "\n",
              "      <script>\n",
              "        const buttonEl =\n",
              "          document.querySelector('#df-d8de3237-72e2-4280-9001-84b4617bcf09 button.colab-df-convert');\n",
              "        buttonEl.style.display =\n",
              "          google.colab.kernel.accessAllowed ? 'block' : 'none';\n",
              "\n",
              "        async function convertToInteractive(key) {\n",
              "          const element = document.querySelector('#df-d8de3237-72e2-4280-9001-84b4617bcf09');\n",
              "          const dataTable =\n",
              "            await google.colab.kernel.invokeFunction('convertToInteractive',\n",
              "                                                     [key], {});\n",
              "          if (!dataTable) return;\n",
              "\n",
              "          const docLinkHtml = 'Like what you see? Visit the ' +\n",
              "            '<a target=\"_blank\" href=https://colab.research.google.com/notebooks/data_table.ipynb>data table notebook</a>'\n",
              "            + ' to learn more about interactive tables.';\n",
              "          element.innerHTML = '';\n",
              "          dataTable['output_type'] = 'display_data';\n",
              "          await google.colab.output.renderOutput(dataTable, element);\n",
              "          const docLink = document.createElement('div');\n",
              "          docLink.innerHTML = docLinkHtml;\n",
              "          element.appendChild(docLink);\n",
              "        }\n",
              "      </script>\n",
              "    </div>\n",
              "  </div>\n",
              "  "
            ]
          },
          "metadata": {},
          "execution_count": 20
        }
      ]
    },
    {
      "cell_type": "code",
      "source": [
        "ozone_df = pd.DataFrame(ozone_complete)"
      ],
      "metadata": {
        "id": "mf3vgYmPcI_V"
      },
      "execution_count": null,
      "outputs": []
    },
    {
      "cell_type": "code",
      "source": [
        "df_diff = df.index.difference(ozone_df.index)\n",
        "df_diff"
      ],
      "metadata": {
        "colab": {
          "base_uri": "https://localhost:8080/"
        },
        "id": "OboVIYv8cU2w",
        "outputId": "4709aeba-9cca-4dc3-b06b-f1570c6189d5"
      },
      "execution_count": null,
      "outputs": [
        {
          "output_type": "execute_result",
          "data": {
            "text/plain": [
              "Int64Index([61, 116], dtype='int64')"
            ]
          },
          "metadata": {},
          "execution_count": 24
        }
      ]
    },
    {
      "cell_type": "code",
      "source": [
        "len(df_diff)"
      ],
      "metadata": {
        "colab": {
          "base_uri": "https://localhost:8080/"
        },
        "id": "ScNhYwVkdRKX",
        "outputId": "ddcc22ad-f47d-4ea8-9850-1c663475c9a2"
      },
      "execution_count": null,
      "outputs": [
        {
          "output_type": "execute_result",
          "data": {
            "text/plain": [
              "2"
            ]
          },
          "metadata": {},
          "execution_count": 25
        }
      ]
    },
    {
      "cell_type": "markdown",
      "source": [
        "."
      ],
      "metadata": {
        "id": "SLFcJK1Jdhn2"
      }
    },
    {
      "cell_type": "markdown",
      "source": [
        "2a Create a new data set called air_median from the air data set. Impute the missing solar radiation values with the MEDIAN of the non-missing radiations in the air_median dataset."
      ],
      "metadata": {
        "id": "Xd0gcX9ndi3X"
      }
    },
    {
      "cell_type": "code",
      "source": [
        "air_median = airquality.copy()"
      ],
      "metadata": {
        "id": "1DQTLQ9qdrqx"
      },
      "execution_count": null,
      "outputs": []
    },
    {
      "cell_type": "code",
      "source": [
        "#calculating median without missing values\n",
        "air_median_clean = np.nanmedian(air_median[\"Solar.R\"])\n",
        "#this replaces NaN with median\n",
        "air_median[\"Solar.R\"]=air_median[\"Solar.R\"].replace(np.NaN,air_median_clean) \n",
        "air_median.info()\n"
      ],
      "metadata": {
        "colab": {
          "base_uri": "https://localhost:8080/"
        },
        "id": "soPj5O67d5yY",
        "outputId": "c981fd1d-2a7f-4a45-97b0-27056c3fd5dc"
      },
      "execution_count": null,
      "outputs": [
        {
          "output_type": "stream",
          "name": "stdout",
          "text": [
            "<class 'pandas.core.frame.DataFrame'>\n",
            "RangeIndex: 153 entries, 0 to 152\n",
            "Data columns (total 6 columns):\n",
            " #   Column   Non-Null Count  Dtype  \n",
            "---  ------   --------------  -----  \n",
            " 0   Ozone    116 non-null    float64\n",
            " 1   Solar.R  153 non-null    float64\n",
            " 2   Wind     137 non-null    float64\n",
            " 3   Temp     148 non-null    float64\n",
            " 4   Month    153 non-null    int64  \n",
            " 5   Day      153 non-null    int64  \n",
            "dtypes: float64(4), int64(2)\n",
            "memory usage: 7.3 KB\n"
          ]
        }
      ]
    },
    {
      "cell_type": "markdown",
      "source": [
        "#There are 153 non-null values for 'Solar.R'"
      ],
      "metadata": {
        "id": "mc5smb7ofB3R"
      }
    },
    {
      "cell_type": "markdown",
      "source": [
        "2b Create a new data set called air_mean from the air_median data set.Impute the missing temperature values with the mean temperature for the month that the temperature is missing from in the air_mean data set.For example, impute missing month 5 temperature values with the mean of the non-missing temperatures for month 5.\""
      ],
      "metadata": {
        "id": "U6aLvWIofel6"
      }
    },
    {
      "cell_type": "code",
      "source": [
        "air_mean = air_median.copy()"
      ],
      "metadata": {
        "id": "nEff7LW-fakb"
      },
      "execution_count": null,
      "outputs": []
    },
    {
      "cell_type": "code",
      "source": [
        "#calculating mean without missing values\n",
        "mean_temp = air_mean[\"Temp\"].mean(skipna=True)  \n",
        "air_mean.groupby(\"Month\")[\"Temp\"].mean()"
      ],
      "metadata": {
        "colab": {
          "base_uri": "https://localhost:8080/"
        },
        "id": "mZquot8RfpyV",
        "outputId": "762813da-2519-451b-af65-415afc25cc00"
      },
      "execution_count": null,
      "outputs": [
        {
          "output_type": "execute_result",
          "data": {
            "text/plain": [
              "Month\n",
              "5    65.700000\n",
              "6    78.965517\n",
              "7    84.172414\n",
              "8    83.967742\n",
              "9    76.758621\n",
              "Name: Temp, dtype: float64"
            ]
          },
          "metadata": {},
          "execution_count": 29
        }
      ]
    },
    {
      "cell_type": "code",
      "source": [
        "# replace NaN values with mean\n",
        "air_mean[\"Temp\"]=air_mean[\"Temp\"].replace(np.NaN,mean_temp)\n",
        "air_mean.info()"
      ],
      "metadata": {
        "colab": {
          "base_uri": "https://localhost:8080/"
        },
        "id": "sfuBU4KBgMYO",
        "outputId": "e2532ab1-ee26-4a70-b5a5-add3d0e7ad9f"
      },
      "execution_count": null,
      "outputs": [
        {
          "output_type": "stream",
          "name": "stdout",
          "text": [
            "<class 'pandas.core.frame.DataFrame'>\n",
            "RangeIndex: 153 entries, 0 to 152\n",
            "Data columns (total 6 columns):\n",
            " #   Column   Non-Null Count  Dtype  \n",
            "---  ------   --------------  -----  \n",
            " 0   Ozone    116 non-null    float64\n",
            " 1   Solar.R  153 non-null    float64\n",
            " 2   Wind     137 non-null    float64\n",
            " 3   Temp     153 non-null    float64\n",
            " 4   Month    153 non-null    int64  \n",
            " 5   Day      153 non-null    int64  \n",
            "dtypes: float64(4), int64(2)\n",
            "memory usage: 7.3 KB\n"
          ]
        }
      ]
    },
    {
      "cell_type": "markdown",
      "source": [
        "#There are now 153 non-null values for Temp meaning that all nulls have been changed"
      ],
      "metadata": {
        "id": "FLxaOJbQhWRx"
      }
    }
  ]
}